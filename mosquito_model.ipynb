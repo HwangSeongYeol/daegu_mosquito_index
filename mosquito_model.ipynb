{
 "cells": [
  {
   "cell_type": "code",
   "execution_count": null,
   "id": "7e800f95-59cc-4dbe-88fc-4a898f42deef",
   "metadata": {},
   "outputs": [],
   "source": [
    "# !pip install catboost\n",
    "# !pip install xgboost\n",
    "# !pip install pydotplus\n",
    "# !pip install graphviz"
   ]
  },
  {
   "cell_type": "code",
   "execution_count": 104,
   "id": "d9a5538d-bab2-45e7-9438-522c673b97ad",
   "metadata": {},
   "outputs": [],
   "source": [
    "import os\n",
    "import pandas as pd\n",
    "import numpy as np\n",
    "from matplotlib import pyplot as plt\n",
    "from matplotlib import font_manager, rc\n",
    "import tslearn\n",
    "from datetime import datetime\n",
    "import missingno as msno\n",
    "import seaborn as sns\n",
    "from tqdm import tqdm \n",
    "import warnings\n",
    "import warnings\n",
    "warnings.filterwarnings(action='ignore')\n",
    "warnings.filterwarnings(\"ignore\")"
   ]
  },
  {
   "cell_type": "code",
   "execution_count": 105,
   "id": "e651af26-dc42-4ce6-90ad-67e122ed5c38",
   "metadata": {},
   "outputs": [],
   "source": [
    "from sklearn import ensemble\n",
    "from sklearn.model_selection import train_test_split\n",
    "from sklearn.ensemble import RandomForestRegressor\n",
    "from sklearn.preprocessing import StandardScaler\n",
    "from sklearn.model_selection import train_test_split\n",
    "from sklearn.metrics import mean_squared_error\n",
    "from sklearn.ensemble import AdaBoostRegressor\n",
    "from sklearn.ensemble import GradientBoostingRegressor\n",
    "from catboost import CatBoostRegressor\n",
    "from xgboost import XGBRegressor\n",
    "import xgboost as xgb\n",
    "from xgboost import plot_tree"
   ]
  },
  {
   "cell_type": "code",
   "execution_count": 106,
   "id": "2bf4e60f-4220-46b0-bb29-9c11c1a61a14",
   "metadata": {},
   "outputs": [],
   "source": [
    "# 한글 폰트 사용을 위해서 세팅\n",
    "from matplotlib import font_manager, rc\n",
    "font_path = \"C:/Windows/Fonts/NGULIM.TTF\"\n",
    "font = font_manager.FontProperties(fname=font_path).get_name()\n",
    "rc('font', family=font)\n",
    "\n",
    "# 작업폴더\n",
    "os.chdir('C:\\\\Users\\\\user\\\\Python\\\\project_mosquito')"
   ]
  },
  {
   "cell_type": "code",
   "execution_count": 107,
   "id": "85a790db-e46f-482c-b2cd-076f8c4a7e11",
   "metadata": {},
   "outputs": [
    {
     "data": {
      "text/html": [
       "<div>\n",
       "<style scoped>\n",
       "    .dataframe tbody tr th:only-of-type {\n",
       "        vertical-align: middle;\n",
       "    }\n",
       "\n",
       "    .dataframe tbody tr th {\n",
       "        vertical-align: top;\n",
       "    }\n",
       "\n",
       "    .dataframe thead th {\n",
       "        text-align: right;\n",
       "    }\n",
       "</style>\n",
       "<table border=\"1\" class=\"dataframe\">\n",
       "  <thead>\n",
       "    <tr style=\"text-align: right;\">\n",
       "      <th></th>\n",
       "      <th>loc_name</th>\n",
       "      <th>mosquito</th>\n",
       "      <th>date</th>\n",
       "      <th>used_area</th>\n",
       "      <th>agri_land</th>\n",
       "      <th>forest</th>\n",
       "      <th>grass</th>\n",
       "      <th>wet_land</th>\n",
       "      <th>barren</th>\n",
       "      <th>water</th>\n",
       "      <th>avg_temp</th>\n",
       "      <th>min_temp</th>\n",
       "      <th>max_temp</th>\n",
       "      <th>rainfall</th>\n",
       "      <th>avg_wind</th>\n",
       "      <th>avg_humi</th>\n",
       "      <th>sma14_temp</th>\n",
       "      <th>sma14_wind</th>\n",
       "      <th>sma14_humi</th>\n",
       "      <th>cum28_rain</th>\n",
       "    </tr>\n",
       "  </thead>\n",
       "  <tbody>\n",
       "    <tr>\n",
       "      <th>0</th>\n",
       "      <td>보건환경연구원</td>\n",
       "      <td>1</td>\n",
       "      <td>2016-04-05</td>\n",
       "      <td>0.926921</td>\n",
       "      <td>0.0049</td>\n",
       "      <td>0.0</td>\n",
       "      <td>0.057981</td>\n",
       "      <td>0.0</td>\n",
       "      <td>0.010198</td>\n",
       "      <td>0.0</td>\n",
       "      <td>9.4</td>\n",
       "      <td>6.5</td>\n",
       "      <td>12.9</td>\n",
       "      <td>0.0</td>\n",
       "      <td>2.8</td>\n",
       "      <td>75.4</td>\n",
       "      <td>9.085714</td>\n",
       "      <td>2.985714</td>\n",
       "      <td>68.357143</td>\n",
       "      <td>0.1</td>\n",
       "    </tr>\n",
       "    <tr>\n",
       "      <th>1</th>\n",
       "      <td>동구보건소</td>\n",
       "      <td>3</td>\n",
       "      <td>2016-04-05</td>\n",
       "      <td>0.815430</td>\n",
       "      <td>0.0000</td>\n",
       "      <td>0.0</td>\n",
       "      <td>0.154623</td>\n",
       "      <td>0.0</td>\n",
       "      <td>0.029948</td>\n",
       "      <td>0.0</td>\n",
       "      <td>9.4</td>\n",
       "      <td>6.5</td>\n",
       "      <td>12.9</td>\n",
       "      <td>0.0</td>\n",
       "      <td>2.8</td>\n",
       "      <td>75.4</td>\n",
       "      <td>9.085714</td>\n",
       "      <td>2.985714</td>\n",
       "      <td>68.357143</td>\n",
       "      <td>0.1</td>\n",
       "    </tr>\n",
       "  </tbody>\n",
       "</table>\n",
       "</div>"
      ],
      "text/plain": [
       "  loc_name  mosquito       date  used_area  agri_land  forest     grass  \\\n",
       "0  보건환경연구원         1 2016-04-05   0.926921     0.0049     0.0  0.057981   \n",
       "1    동구보건소         3 2016-04-05   0.815430     0.0000     0.0  0.154623   \n",
       "\n",
       "   wet_land    barren  water  avg_temp  min_temp  max_temp  rainfall  \\\n",
       "0       0.0  0.010198    0.0       9.4       6.5      12.9       0.0   \n",
       "1       0.0  0.029948    0.0       9.4       6.5      12.9       0.0   \n",
       "\n",
       "   avg_wind  avg_humi  sma14_temp  sma14_wind  sma14_humi  cum28_rain  \n",
       "0       2.8      75.4    9.085714    2.985714   68.357143         0.1  \n",
       "1       2.8      75.4    9.085714    2.985714   68.357143         0.1  "
      ]
     },
     "execution_count": 107,
     "metadata": {},
     "output_type": "execute_result"
    }
   ],
   "source": [
    "df=pd.read_csv('df_final.csv',encoding='ansi')\n",
    "df=df.drop(['Unnamed: 0','lon','lat','sgg','emd'],axis=1)\n",
    "df['date'] = pd.to_datetime(df['date']) #날짜를 pandas Timestamp 형태로 변경 \n",
    "df.head(2)"
   ]
  },
  {
   "cell_type": "code",
   "execution_count": 108,
   "id": "953cfb2f-dcf9-46b8-a35d-4fa6d1f120dc",
   "metadata": {},
   "outputs": [],
   "source": [
    "A=df.loc[df['barren'].notna(),:]\n",
    "\n",
    "#종속변수가 결측치인 부분과 아닌부분을 구분\n",
    "df=A.loc[A['mosquito']!=-1,:]\n",
    "df_na=A.loc[A['mosquito']==-1,:]"
   ]
  },
  {
   "cell_type": "code",
   "execution_count": 109,
   "id": "72c26e92-78fc-4455-bbce-68f90dc782b9",
   "metadata": {},
   "outputs": [],
   "source": [
    "#최저/최고 기온과 평균기온과의 상관관계 높음\n",
    "df.drop(['min_temp', 'max_temp'], axis=1, inplace=True)"
   ]
  },
  {
   "cell_type": "markdown",
   "id": "ebb40329-6d5c-4e06-a51b-26f818fcff20",
   "metadata": {},
   "source": [
    "## train set과 test set 분류"
   ]
  },
  {
   "cell_type": "code",
   "execution_count": 110,
   "id": "4d0f2a81-21f8-40e0-bc5e-d988116feb62",
   "metadata": {},
   "outputs": [],
   "source": [
    "x=df[['barren', 'agri_land', 'forest','water', 'wet_land', 'used_area', \n",
    "      'grass', 'avg_temp','rainfall', 'avg_wind', 'avg_humi',\n",
    "       'sma14_temp', 'sma14_wind', 'sma14_humi', 'cum28_rain']]\n",
    "y=np.log(df['mosquito']+1)\n",
    "\n",
    "x_train, x_test, y_train, y_test=train_test_split(x,y,random_state=42,test_size=0.2) #train,test분할"
   ]
  },
  {
   "cell_type": "markdown",
   "id": "5bd43243-8cb9-407f-bf97-a775a18cc22e",
   "metadata": {},
   "source": [
    "## Random Forest Regressor\n",
    "#### 파라미터\n",
    "- **n_estimators**: 결정 트리 개수\n",
    "- **max_feature**:데이터의 feature를 참조할 비율\n",
    "- **max_depth**: 트리 깊이\n",
    "- **min_samples_leaf**:리프노드가 되기 위한 최소 샘플 데이터 수\n",
    "- **min_samples_split**:노드를 분할하기 위한 최소한의 데이터 수"
   ]
  },
  {
   "cell_type": "code",
   "execution_count": 111,
   "id": "966a0784-bf27-4073-97a3-59a856d808bc",
   "metadata": {},
   "outputs": [
    {
     "data": {
      "image/png": "[encoded data removed]",
      "text/plain": [
       "<Figure size 432x288 with 1 Axes>"
      ]
     },
     "metadata": {
      "needs_background": "light"
     },
     "output_type": "display_data"
    }
   ],
   "source": [
    "#n_estimators 조절\n",
    "score=[]\n",
    "mse=[]\n",
    "list=[10,50,100,200,250,300]\n",
    "for i in list:\n",
    "    model = RandomForestRegressor(n_estimators=i)\n",
    "    model.fit(x_train, y_train)\n",
    "    \n",
    "    prediction = model.predict(x_test)\n",
    "    mse.append(mean_squared_error(y_test, prediction))\n",
    "    score.append(model.score(x_test,y_test))\n",
    "\n",
    "#mse plot\n",
    "plt.plot(list, mse)\n",
    "plt.xlabel('결정 트리 수')\n",
    "plt.ylabel('MSE')\n",
    "plt.show()    "
   ]
  },
  {
   "cell_type": "code",
   "execution_count": 112,
   "id": "ac664615-fe89-4d77-addb-df15838194fe",
   "metadata": {},
   "outputs": [
    {
     "data": {
      "image/png": "[encoded data removed]",
      "text/plain": [
       "<Figure size 432x288 with 1 Axes>"
      ]
     },
     "metadata": {
      "needs_background": "light"
     },
     "output_type": "display_data"
    }
   ],
   "source": [
    "#max_feature 조절\n",
    "\n",
    "score=[]\n",
    "mse=[]\n",
    "list=['auto','sqrt','log2']\n",
    "for i in list:\n",
    "    model = RandomForestRegressor(n_estimators=100,max_features=i)\n",
    "    model.fit(x_train, y_train)\n",
    "    \n",
    "    prediction = model.predict(x_test)\n",
    "    mse.append(mean_squared_error(y_test, prediction))\n",
    "    score.append(model.score(x_test,y_test))\n",
    "\n",
    "#mse,score plot    \n",
    "plt.plot(list, mse,label='mse')\n",
    "plt.legend()\n",
    "plt.plot(list,score,label='score')\n",
    "plt.legend()\n",
    "plt.xlabel('Feature 참조')\n",
    "plt.ylabel('MSE')\n",
    "plt.show()"
   ]
  },
  {
   "cell_type": "code",
   "execution_count": 113,
   "id": "a8e8fc8e-97e0-45de-82d4-13647ce290ed",
   "metadata": {},
   "outputs": [],
   "source": [
    "##위 값을 참고해 파라미터 조정\n",
    "\n",
    "rf = RandomForestRegressor(n_estimators=100, \n",
    "                          max_features='sqrt') \n",
    "rf.fit(x_train, y_train)\n",
    "\n",
    "prediction = rf.predict(x_test)\n",
    "tr_prediction = rf.predict(x_train)\n",
    "rf_train_score=rf.score(x_train, y_train)\n",
    "rf_test_score=rf.score(x_test, y_test)\n",
    "rf_train_mse=mean_squared_error(y_train, tr_prediction)\n",
    "rf_test_mse=mean_squared_error(y_test, prediction)"
   ]
  },
  {
   "cell_type": "code",
   "execution_count": 114,
   "id": "f41ae4e8-8b6d-4dad-813f-cd9a2dee8407",
   "metadata": {},
   "outputs": [
    {
     "name": "stdout",
     "output_type": "stream",
     "text": [
      "train score: 0.967068568878109\n",
      "test score: 0.7509450956448985\n",
      "train MSE: 0.07925803629177963\n",
      "test MSE: 0.5799923993670423\n"
     ]
    }
   ],
   "source": [
    "print('train score:',rf_train_score)\n",
    "print('test score:',rf_test_score)\n",
    "print('train MSE:',rf_train_mse)\n",
    "print('test MSE:',rf_test_mse)"
   ]
  },
  {
   "cell_type": "code",
   "execution_count": 115,
   "id": "0ec2ab3b-c702-4126-9673-0c30951af96e",
   "metadata": {},
   "outputs": [
    {
     "data": {
      "image/png": "[encoded data removed]",
      "text/plain": [
       "<Figure size 432x288 with 1 Axes>"
      ]
     },
     "metadata": {
      "needs_background": "light"
     },
     "output_type": "display_data"
    }
   ],
   "source": [
    "#변수 중요도 파악\n",
    "featureImportance = rf.feature_importances_\n",
    "\n",
    "featureImportance = featureImportance/featureImportance.max()\n",
    "sorted_idx = np.argsort(featureImportance)\n",
    "barPos = np.arange(sorted_idx.shape[0])+.5\n",
    "plt.barh(barPos, featureImportance[sorted_idx], align='center')\n",
    "plt.yticks(barPos, x)\n",
    "plt.xlabel('변수 중요도')\n",
    "plt.show()"
   ]
  },
  {
   "cell_type": "markdown",
   "id": "9ce1373f-6ec4-4afa-b918-798a8667b676",
   "metadata": {},
   "source": [
    "## CatBoost Regressor\n",
    "#### 파라미터\n",
    "- **n_estimators**\n",
    "- **learning_rate**"
   ]
  },
  {
   "cell_type": "code",
   "execution_count": 116,
   "id": "f135ad1a-d870-4a11-bb34-3831bf3f5008",
   "metadata": {},
   "outputs": [
    {
     "data": {
      "image/png": "[encoded data removed]",
      "text/plain": [
       "<Figure size 432x288 with 1 Axes>"
      ]
     },
     "metadata": {
      "needs_background": "light"
     },
     "output_type": "display_data"
    }
   ],
   "source": [
    "#n_estimators 조절\n",
    "mse=[]\n",
    "score=[]\n",
    "list=[10,50,100,300,500,1000]\n",
    "for i in list:\n",
    "    model = CatBoostRegressor(n_estimators=i, \n",
    "                              learning_rate=0.05) \n",
    "    model.fit(x_train, y_train, verbose=0)\n",
    "    \n",
    "    prediction = model.predict(x_test)\n",
    "    mse.append(mean_squared_error(y_test, prediction))\n",
    "    score.append(model.score(x_test,y_test))\n",
    "\n",
    "#mse,score plot\n",
    "plt.plot(list, mse,label='mse')\n",
    "plt.legend()\n",
    "plt.plot(list,score,label='score')\n",
    "plt.legend()\n",
    "plt.xlabel('결정 트리 수')\n",
    "plt.ylabel('MSE')\n",
    "plt.show()  "
   ]
  },
  {
   "cell_type": "code",
   "execution_count": 117,
   "id": "ea0217c2-9916-466c-acff-3ad1a48a24fc",
   "metadata": {},
   "outputs": [
    {
     "data": {
      "image/png": "[encoded data removed]",
      "text/plain": [
       "<Figure size 432x288 with 1 Axes>"
      ]
     },
     "metadata": {
      "needs_background": "light"
     },
     "output_type": "display_data"
    }
   ],
   "source": [
    "#learning_rate 조절\n",
    "mse=[]\n",
    "score=[]\n",
    "list =[0.1,0.05,0.01,0.001]\n",
    "for i in list:\n",
    "    model = CatBoostRegressor(n_estimators=300, \n",
    "                              learning_rate=i) \n",
    "    model.fit(x_train, y_train, verbose=0)\n",
    "    \n",
    "    prediction = model.predict(x_test)\n",
    "    mse.append(mean_squared_error(y_test, prediction))\n",
    "    score.append(model.score(x_test,y_test))\n",
    "\n",
    "#tree별 mse plot\n",
    "plt.plot(list, mse,label='mse')\n",
    "plt.legend()\n",
    "plt.plot(list,score,label='score')\n",
    "plt.legend()\n",
    "plt.xlabel('학습률')\n",
    "plt.ylabel('MSE')\n",
    "plt.show()  "
   ]
  },
  {
   "cell_type": "code",
   "execution_count": 118,
   "id": "cb2c3864-d0ba-4676-b9b6-a363f207cef3",
   "metadata": {},
   "outputs": [],
   "source": [
    "##위 값을 참고해\n",
    "#파라미터 조정\n",
    "\n",
    "from catboost import CatBoostRegressor\n",
    "catb = CatBoostRegressor(n_estimators=300,\n",
    "                         learning_rate=0.05)\n",
    "    \n",
    "catb.fit(x_train, y_train, verbose=0)\n",
    "\n",
    "tr_prediction =catb.predict(x_train)\n",
    "prediction =catb.predict(x_test)\n",
    "catb_train_score=catb.score(x_train, y_train)\n",
    "catb_test_score=catb.score(x_test, y_test)\n",
    "catb_train_mse=mean_squared_error(y_train, tr_prediction)\n",
    "catb_test_mse=mean_squared_error(y_test, prediction)"
   ]
  },
  {
   "cell_type": "code",
   "execution_count": 119,
   "id": "4ab9b639-83e2-45c9-81c7-5267a6c45c41",
   "metadata": {},
   "outputs": [
    {
     "name": "stdout",
     "output_type": "stream",
     "text": [
      "train score: 0.6857958062552133\n",
      "test score: 0.6557176520929324\n",
      "train MSE: 0.7562139434110234\n",
      "test MSE: 0.8017555227004659\n"
     ]
    }
   ],
   "source": [
    "print('train score:',catb_train_score)\n",
    "print('test score:',catb_test_score)\n",
    "print('train MSE:',catb_train_mse)\n",
    "print('test MSE:',catb_test_mse)"
   ]
  },
  {
   "cell_type": "markdown",
   "id": "55356c59-db8d-4742-9870-bce593f168e9",
   "metadata": {},
   "source": [
    "## AdaBoost Regressor\n",
    "#### 파라미터\n",
    "- **n_estimator**: 부스팅이 종료되는 최대 estimator 수\n",
    "- **learning_rate**:각 부스팅 반복에서 분류기에 적용되는 가중치\n",
    "- **loss**:가중치 업데이트시 사용할 손실 함수"
   ]
  },
  {
   "cell_type": "code",
   "execution_count": 120,
   "id": "191f7324-f763-4759-97ec-b99fa7835f4e",
   "metadata": {},
   "outputs": [
    {
     "data": {
      "image/png": "[encoded data removed]",
      "text/plain": [
       "<Figure size 432x288 with 1 Axes>"
      ]
     },
     "metadata": {
      "needs_background": "light"
     },
     "output_type": "display_data"
    }
   ],
   "source": [
    "#n_estimators 조절\n",
    "mse=[]\n",
    "score=[]\n",
    "list=[10,50,100,300,500,1000]\n",
    "for i in list:\n",
    "    model = AdaBoostRegressor(n_estimators=i)\n",
    "    model.fit(x_train, y_train)\n",
    "    \n",
    "    prediction = model.predict(x_test)\n",
    "    mse.append(mean_squared_error(y_test, prediction))\n",
    "    score.append(model.score(x_test,y_test))\n",
    "\n",
    "plt.plot(list, mse,label='mse')\n",
    "plt.legend()\n",
    "plt.plot(list,score,label='score')\n",
    "plt.legend()\n",
    "plt.xlabel('estimator 수')\n",
    "plt.ylabel('MSE')\n",
    "plt.show()"
   ]
  },
  {
   "cell_type": "code",
   "execution_count": 121,
   "id": "dbc5c7de-81f8-4e1f-b694-9c8b3cc6c32a",
   "metadata": {},
   "outputs": [
    {
     "data": {
      "image/png": "[encoded data removed]",
      "text/plain": [
       "<Figure size 432x288 with 1 Axes>"
      ]
     },
     "metadata": {
      "needs_background": "light"
     },
     "output_type": "display_data"
    }
   ],
   "source": [
    "#learning_rate 조절\n",
    "mse=[]\n",
    "score=[]\n",
    "list=[0.001,0.005,0.01,0.05,0.1,0.3]\n",
    "for i in list:\n",
    "    model = AdaBoostRegressor(n_estimators=300,\n",
    "                             learning_rate=i)\n",
    "    model.fit(x_train, y_train)\n",
    "    \n",
    "    prediction = model.predict(x_test)\n",
    "    mse.append(mean_squared_error(y_test, prediction))\n",
    "    score.append(model.score(x_test,y_test))\n",
    "    \n",
    "plt.plot(list, mse,label='mse')\n",
    "plt.legend()\n",
    "plt.plot(list,score,label='score')\n",
    "plt.legend()\n",
    "plt.xlabel('가중치')\n",
    "plt.ylabel('MSE')\n",
    "plt.show()"
   ]
  },
  {
   "cell_type": "code",
   "execution_count": 122,
   "id": "479b3cf3-52b5-40b0-8e3a-37d5231d0b56",
   "metadata": {},
   "outputs": [
    {
     "data": {
      "image/png": "[encoded data removed]",
      "text/plain": [
       "<Figure size 432x288 with 1 Axes>"
      ]
     },
     "metadata": {
      "needs_background": "light"
     },
     "output_type": "display_data"
    }
   ],
   "source": [
    "#loss 조절\n",
    "mse=[]\n",
    "score=[]\n",
    "list=['linear', 'square', 'exponential']\n",
    "for i in list:\n",
    "    model = AdaBoostRegressor(n_estimators=300,\n",
    "                             learning_rate=0.01,\n",
    "                             loss=i)\n",
    "    model.fit(x_train, y_train)\n",
    "    \n",
    "    prediction = model.predict(x_test)\n",
    "    mse.append(mean_squared_error(y_test, prediction))\n",
    "    score.append(model.score(x_test,y_test))\n",
    "    \n",
    "plt.plot(list, mse,label='mse')\n",
    "plt.legend()\n",
    "plt.plot(list,score,label='score')\n",
    "plt.legend()\n",
    "plt.xlabel('손실함수')\n",
    "plt.ylabel('MSE')\n",
    "plt.show()"
   ]
  },
  {
   "cell_type": "code",
   "execution_count": 123,
   "id": "e54d5e4a-b4dc-4b53-b2ba-b31222b6f43a",
   "metadata": {},
   "outputs": [],
   "source": [
    "#모델학습\n",
    "ada = AdaBoostRegressor(n_estimators=1000,\n",
    "                        loss='exponential',\n",
    "                        learning_rate=0.01)\n",
    "ada.fit(x_train,y_train)\n",
    "tr_prediction = ada.predict(x_train)\n",
    "prediction = ada.predict(x_test)\n",
    "ada_train_score=ada.score(x_train, y_train)\n",
    "ada_test_score=ada.score(x_test, y_test)\n",
    "ada_train_mse=mean_squared_error(y_train, tr_prediction)\n",
    "ada_test_mse=mean_squared_error(y_test, prediction)"
   ]
  },
  {
   "cell_type": "code",
   "execution_count": 124,
   "id": "a5c295a4-478b-478f-9018-9f09cb2e7c48",
   "metadata": {},
   "outputs": [
    {
     "name": "stdout",
     "output_type": "stream",
     "text": [
      "train score: 0.4032755958030845\n",
      "test score: 0.39002886849217955\n",
      "train MSE: 1.4361721575042796\n",
      "test MSE: 1.4204844551201223\n"
     ]
    }
   ],
   "source": [
    "print('train score:',ada_train_score)\n",
    "print('test score:',ada_test_score)\n",
    "print('train MSE:',ada_train_mse)\n",
    "print('test MSE:',ada_test_mse)"
   ]
  },
  {
   "cell_type": "markdown",
   "id": "50e6f384-d3ff-4a8f-9dcf-74e6bb2762a1",
   "metadata": {},
   "source": [
    "## GradientBoost Regressor\n",
    "#### 파라미터\n",
    "- **loss**:최적화할 손실함수\n",
    "- **learning_rate**:학습률\n",
    "- **max_feature**:고려해야할 feature 수\n",
    "- **n_estimator**:수행할 부스팅 단계 수"
   ]
  },
  {
   "cell_type": "code",
   "execution_count": 125,
   "id": "40790e78-8652-4bf6-b1b1-e7bd0cd8e497",
   "metadata": {},
   "outputs": [
    {
     "data": {
      "image/png": "[encoded data removed]",
      "text/plain": [
       "<Figure size 432x288 with 1 Axes>"
      ]
     },
     "metadata": {
      "needs_background": "light"
     },
     "output_type": "display_data"
    }
   ],
   "source": [
    "#loss 조절\n",
    "mse=[]\n",
    "score=[]\n",
    "list=['ls','lad', 'huber','quantile']\n",
    "for i in list:\n",
    "    model = GradientBoostingRegressor(n_estimators=300,loss=i,learning_rate=0.05)\n",
    "    model.fit(x_train, y_train)\n",
    "   \n",
    "    prediction = model.predict(x_test)\n",
    "    mse.append(mean_squared_error(y_test, prediction))\n",
    "    score.append(model.score(x_test,y_test))\n",
    "    \n",
    "plt.plot(list, mse,label='mse')\n",
    "plt.legend()\n",
    "plt.plot(list,score,label='score')\n",
    "plt.legend()\n",
    "plt.xlabel('손실함수')\n",
    "plt.ylabel('MSE')\n",
    "plt.show()"
   ]
  },
  {
   "cell_type": "code",
   "execution_count": 126,
   "id": "7fd61d28-ac41-4ff4-9985-486ab09b6cb2",
   "metadata": {},
   "outputs": [
    {
     "data": {
      "image/png": "[encoded data removed]",
      "text/plain": [
       "<Figure size 432x288 with 1 Axes>"
      ]
     },
     "metadata": {
      "needs_background": "light"
     },
     "output_type": "display_data"
    }
   ],
   "source": [
    "#learning_rate 조절\n",
    "mse=[]\n",
    "score=[]\n",
    "list=[0.001,0.005,0.01,0.05,0.1,0.3]\n",
    "for i in list:\n",
    "    model = GradientBoostingRegressor(n_estimators=300,learning_rate=i)\n",
    "    model.fit(x_train, y_train)\n",
    "    \n",
    "    prediction = model.predict(x_test)\n",
    "    mse.append(mean_squared_error(y_test, prediction))\n",
    "    score.append(model.score(x_test,y_test))\n",
    "    \n",
    "plt.plot(list, mse,label='mse')\n",
    "plt.legend()\n",
    "plt.plot(list,score,label='score')\n",
    "plt.legend()\n",
    "plt.xlabel('학습률')\n",
    "plt.ylabel('MSE')\n",
    "plt.show()"
   ]
  },
  {
   "cell_type": "code",
   "execution_count": 127,
   "id": "79225754-7967-420f-ac98-06e1a0c8e3d6",
   "metadata": {},
   "outputs": [
    {
     "data": {
      "image/png": "[encoded data removed]",
      "text/plain": [
       "<Figure size 432x288 with 1 Axes>"
      ]
     },
     "metadata": {
      "needs_background": "light"
     },
     "output_type": "display_data"
    }
   ],
   "source": [
    "#max_feature 조절\n",
    "mse=[]\n",
    "score=[]\n",
    "list=['auto','sqrt','log2']\n",
    "for i in list:\n",
    "    model = GradientBoostingRegressor(n_estimators=300,learning_rate=0.1,max_features=i)\n",
    "    model.fit(x_train, y_train)\n",
    "    \n",
    "    prediction = model.predict(x_test)\n",
    "    mse.append(mean_squared_error(y_test, prediction))\n",
    "    score.append(model.score(x_test,y_test))\n",
    "    \n",
    "plt.plot(list, mse,label='mse')\n",
    "plt.legend()\n",
    "plt.plot(list,score,label='score')\n",
    "plt.legend()\n",
    "plt.xlabel('feature 수')\n",
    "plt.ylabel('MSE')\n",
    "plt.show()"
   ]
  },
  {
   "cell_type": "code",
   "execution_count": 128,
   "id": "13f791b6-57b9-4ec2-8888-307cd1905e15",
   "metadata": {},
   "outputs": [],
   "source": [
    "gbr = GradientBoostingRegressor(loss='ls',learning_rate=0.1,max_features='auto',n_estimators=300)\n",
    "gbr.fit(x_train, y_train)\n",
    "\n",
    "tr_prediction = gbr.predict(x_train)\n",
    "prediction = gbr.predict(x_test)\n",
    "gbr_train_score=gbr.score(x_train, y_train)\n",
    "gbr_test_score=gbr.score(x_test, y_test)\n",
    "gbr_train_mse=mean_squared_error(y_train, tr_prediction)\n",
    "gbr_test_mse=mean_squared_error(y_test, prediction)"
   ]
  },
  {
   "cell_type": "code",
   "execution_count": 129,
   "id": "9c5ab4ad-bf65-4002-b251-231390a92fc9",
   "metadata": {},
   "outputs": [
    {
     "name": "stdout",
     "output_type": "stream",
     "text": [
      "train score: 0.6874116949649394\n",
      "test score: 0.652553646756248\n",
      "train MSE: 0.7523248878299007\n",
      "test MSE: 0.8091237736955045\n"
     ]
    }
   ],
   "source": [
    "print('train score:',gbr_train_score)\n",
    "print('test score:',gbr_test_score)\n",
    "print('train MSE:',gbr_train_mse)\n",
    "print('test MSE:',gbr_test_mse)"
   ]
  },
  {
   "cell_type": "markdown",
   "id": "c1cf1e3b-90bb-4fcd-8e96-a7997d50e88b",
   "metadata": {},
   "source": [
    "## XGBoost REgressor\n",
    "#### 파라미터\n",
    "- **booster**:사용할 부스터\n",
    "- **learning_rate**:학습률\n",
    "- **subsample**:하위 샘플 비율"
   ]
  },
  {
   "cell_type": "code",
   "execution_count": 130,
   "id": "12d91cd9-48bc-4d10-8cdf-43cd36a15bbb",
   "metadata": {},
   "outputs": [
    {
     "data": {
      "image/png": "[encoded data removed]",
      "text/plain": [
       "<Figure size 432x288 with 1 Axes>"
      ]
     },
     "metadata": {
      "needs_background": "light"
     },
     "output_type": "display_data"
    }
   ],
   "source": [
    "#booster 선택\n",
    "mse=[]\n",
    "score=[]\n",
    "list=['gbtree','gblinear','dart']\n",
    "for i in list:\n",
    "    model =  XGBRegressor(n_estimators=1000,booster=i)\n",
    "    model.fit(x_train, y_train)\n",
    "    \n",
    "    prediction = model.predict(x_test)\n",
    "    mse.append(mean_squared_error(y_test, prediction))\n",
    "    score.append(model.score(x_test,y_test))\n",
    "    \n",
    "plt.plot(list, mse,label='mse')\n",
    "plt.legend()\n",
    "plt.plot(list,score,label='score')\n",
    "plt.legend()\n",
    "plt.xlabel('부스터 종류')\n",
    "plt.ylabel('MSE')\n",
    "plt.show()"
   ]
  },
  {
   "cell_type": "code",
   "execution_count": 131,
   "id": "64ebffde-03b2-42ac-920c-18c8c0ef118e",
   "metadata": {},
   "outputs": [
    {
     "data": {
      "image/png": "[encoded data removed]",
      "text/plain": [
       "<Figure size 432x288 with 1 Axes>"
      ]
     },
     "metadata": {
      "needs_background": "light"
     },
     "output_type": "display_data"
    }
   ],
   "source": [
    "#learning_rate 조절\n",
    "mse=[]\n",
    "score=[]\n",
    "list=[0.001,0.005,0.01,0.05,0.1,0.3]\n",
    "for i in list:\n",
    "    model =  XGBRegressor(n_estimators=1000,booster='gbtree',learning_rate=i)\n",
    "    model.fit(x_train, y_train)\n",
    "    \n",
    "    prediction = model.predict(x_test)\n",
    "    mse.append(mean_squared_error(y_test, prediction))\n",
    "    score.append(model.score(x_test,y_test))\n",
    "    \n",
    "plt.plot(list, mse,label='mse')\n",
    "plt.legend()\n",
    "plt.plot(list,score,label='score')\n",
    "plt.legend()\n",
    "plt.xlabel('학습률')\n",
    "plt.ylabel('MSE')\n",
    "plt.show()"
   ]
  },
  {
   "cell_type": "code",
   "execution_count": 132,
   "id": "ca4ed72d-755a-4c0b-8686-4de55532c9b0",
   "metadata": {},
   "outputs": [
    {
     "data": {
      "image/png": "[encoded data removed]",
      "text/plain": [
       "<Figure size 432x288 with 1 Axes>"
      ]
     },
     "metadata": {
      "needs_background": "light"
     },
     "output_type": "display_data"
    }
   ],
   "source": [
    "#subsample 조절\n",
    "mse=[]\n",
    "score=[]\n",
    "list=[0.5,0.6,0.7,0.8,0.9,1]\n",
    "for i in list:\n",
    "    model =  XGBRegressor(n_estimators=1000,booster='gbtree',subsample=i)\n",
    "    model.fit(x_train, y_train)\n",
    "    \n",
    "    prediction = model.predict(x_test)\n",
    "    mse.append(mean_squared_error(y_test, prediction))\n",
    "    score.append(model.score(x_test,y_test))\n",
    "    \n",
    "plt.plot(list, mse,label='mse')\n",
    "plt.legend()\n",
    "plt.plot(list,score,label='score')\n",
    "plt.legend()\n",
    "plt.xlabel('하위 샘플 비율')\n",
    "plt.ylabel('MSE')\n",
    "plt.show()"
   ]
  },
  {
   "cell_type": "code",
   "execution_count": 147,
   "id": "043afb1f-d364-4915-9632-5de5260e6376",
   "metadata": {},
   "outputs": [],
   "source": [
    "xg = XGBRegressor(n_estimators=1000,subsample=1,booster='gbtree',learning_rate=0.05)\n",
    "xg.fit(x_train,y_train)\n",
    "\n",
    "tr_prediction = xg.predict(x_train)\n",
    "prediction = xg.predict(x_test)\n",
    "xg_train_score=xg.score(x_train, y_train)\n",
    "xg_test_score=xg.score(x_test, y_test)\n",
    "xg_train_mse=mean_squared_error(y_train, tr_prediction)\n",
    "xg_test_mse=mean_squared_error(y_test, prediction)"
   ]
  },
  {
   "cell_type": "code",
   "execution_count": 148,
   "id": "048783b8-1185-4e11-924e-fdd5ba1ce6af",
   "metadata": {},
   "outputs": [
    {
     "name": "stdout",
     "output_type": "stream",
     "text": [
      "train score: 0.8618105433926552\n",
      "test score: 0.7483118864716797\n",
      "train MSE: 0.33258879416405185\n",
      "test MSE: 0.5861245464547101\n"
     ]
    }
   ],
   "source": [
    "print('train score:',xg_train_score)\n",
    "print('test score:',xg_test_score)\n",
    "print('train MSE:',xg_train_mse)\n",
    "print('test MSE:',xg_test_mse)"
   ]
  },
  {
   "cell_type": "markdown",
   "id": "2a2a250f-2cda-4f4d-ae01-896fbe55b5fb",
   "metadata": {},
   "source": [
    "## 성능비교 시각화"
   ]
  },
  {
   "cell_type": "code",
   "execution_count": 149,
   "id": "dd087cd6-7f53-4bec-aef4-126e0a1a32a6",
   "metadata": {},
   "outputs": [],
   "source": [
    "index=['random forest', 'catboost' ,'adaboost','gradientboost', 'xgboost']\n",
    "train_scores=[rf_train_score, catb_train_score, ada_train_score, gbr_train_score, xg_train_score]\n",
    "test_scores=[rf_test_score, catb_test_score, ada_test_score, gbr_test_score, xg_test_score]\n",
    "train_mses=[rf_train_mse, catb_train_mse, ada_train_mse, gbr_train_mse, xg_train_mse]\n",
    "test_mses=[rf_test_mse, catb_test_mse, ada_test_mse, gbr_test_mse, xg_test_mse]"
   ]
  },
  {
   "cell_type": "code",
   "execution_count": 150,
   "id": "f78f23ec-4b9a-413f-a24b-2a6a189ff209",
   "metadata": {},
   "outputs": [
    {
     "data": {
      "text/html": [
       "<div>\n",
       "<style scoped>\n",
       "    .dataframe tbody tr th:only-of-type {\n",
       "        vertical-align: middle;\n",
       "    }\n",
       "\n",
       "    .dataframe tbody tr th {\n",
       "        vertical-align: top;\n",
       "    }\n",
       "\n",
       "    .dataframe thead th {\n",
       "        text-align: right;\n",
       "    }\n",
       "</style>\n",
       "<table border=\"1\" class=\"dataframe\">\n",
       "  <thead>\n",
       "    <tr style=\"text-align: right;\">\n",
       "      <th></th>\n",
       "      <th>random forest</th>\n",
       "      <th>catboost</th>\n",
       "      <th>adaboost</th>\n",
       "      <th>gradientboost</th>\n",
       "      <th>xgboost</th>\n",
       "    </tr>\n",
       "  </thead>\n",
       "  <tbody>\n",
       "    <tr>\n",
       "      <th>train score</th>\n",
       "      <td>0.967069</td>\n",
       "      <td>0.685796</td>\n",
       "      <td>0.403276</td>\n",
       "      <td>0.687412</td>\n",
       "      <td>0.861811</td>\n",
       "    </tr>\n",
       "    <tr>\n",
       "      <th>test score</th>\n",
       "      <td>0.750945</td>\n",
       "      <td>0.655718</td>\n",
       "      <td>0.390029</td>\n",
       "      <td>0.652554</td>\n",
       "      <td>0.748312</td>\n",
       "    </tr>\n",
       "  </tbody>\n",
       "</table>\n",
       "</div>"
      ],
      "text/plain": [
       "             random forest  catboost  adaboost  gradientboost   xgboost\n",
       "train score       0.967069  0.685796  0.403276       0.687412  0.861811\n",
       "test score        0.750945  0.655718  0.390029       0.652554  0.748312"
      ]
     },
     "execution_count": 150,
     "metadata": {},
     "output_type": "execute_result"
    }
   ],
   "source": [
    "pd.DataFrame([train_scores, test_scores], columns = index, index=['train score', 'test score'])"
   ]
  },
  {
   "cell_type": "code",
   "execution_count": 151,
   "id": "007b1742-e844-497d-8f50-2e6933c5697f",
   "metadata": {},
   "outputs": [
    {
     "data": {
      "text/html": [
       "<div>\n",
       "<style scoped>\n",
       "    .dataframe tbody tr th:only-of-type {\n",
       "        vertical-align: middle;\n",
       "    }\n",
       "\n",
       "    .dataframe tbody tr th {\n",
       "        vertical-align: top;\n",
       "    }\n",
       "\n",
       "    .dataframe thead th {\n",
       "        text-align: right;\n",
       "    }\n",
       "</style>\n",
       "<table border=\"1\" class=\"dataframe\">\n",
       "  <thead>\n",
       "    <tr style=\"text-align: right;\">\n",
       "      <th></th>\n",
       "      <th>random forest</th>\n",
       "      <th>catboost</th>\n",
       "      <th>adaboost</th>\n",
       "      <th>gradientboost</th>\n",
       "      <th>xgboost</th>\n",
       "    </tr>\n",
       "  </thead>\n",
       "  <tbody>\n",
       "    <tr>\n",
       "      <th>train mse</th>\n",
       "      <td>0.079258</td>\n",
       "      <td>0.756214</td>\n",
       "      <td>1.436172</td>\n",
       "      <td>0.752325</td>\n",
       "      <td>0.332589</td>\n",
       "    </tr>\n",
       "    <tr>\n",
       "      <th>test mse</th>\n",
       "      <td>0.579992</td>\n",
       "      <td>0.801756</td>\n",
       "      <td>1.420484</td>\n",
       "      <td>0.809124</td>\n",
       "      <td>0.586125</td>\n",
       "    </tr>\n",
       "  </tbody>\n",
       "</table>\n",
       "</div>"
      ],
      "text/plain": [
       "           random forest  catboost  adaboost  gradientboost   xgboost\n",
       "train mse       0.079258  0.756214  1.436172       0.752325  0.332589\n",
       "test mse        0.579992  0.801756  1.420484       0.809124  0.586125"
      ]
     },
     "execution_count": 151,
     "metadata": {},
     "output_type": "execute_result"
    }
   ],
   "source": [
    "pd.DataFrame([train_mses, test_mses], columns = index, index=['train mse', 'test mse'])"
   ]
  },
  {
   "cell_type": "code",
   "execution_count": 155,
   "id": "ce01cfa4-374b-486a-93d3-8b3bcbf79d71",
   "metadata": {},
   "outputs": [
    {
     "data": {
      "image/png": "[encoded data removed]",
      "text/plain": [
       "<Figure size 432x288 with 1 Axes>"
      ]
     },
     "metadata": {
      "needs_background": "light"
     },
     "output_type": "display_data"
    }
   ],
   "source": [
    "x=np.arange(len(index))\n",
    "plt.bar(x-0.05,train_scores,label='train',width=0.2)\n",
    "plt.bar(x+0.15,test_scores,label='test',width=0.2)\n",
    "plt.xticks(x, index)\n",
    "plt.legend()\n",
    "plt.title('score')\n",
    "plt.show()"
   ]
  },
  {
   "cell_type": "code",
   "execution_count": 154,
   "id": "6a8dc3ff-9262-4044-a475-3e32a320500b",
   "metadata": {},
   "outputs": [
    {
     "data": {
      "image/png": "[encoded data removed]",
      "text/plain": [
       "<Figure size 432x288 with 1 Axes>"
      ]
     },
     "metadata": {
      "needs_background": "light"
     },
     "output_type": "display_data"
    }
   ],
   "source": [
    "x=np.arange(len(index))\n",
    "plt.bar(x-0.05,train_mses,label='train',width=0.2)\n",
    "plt.bar(x+0.15,test_mses,label='test',width=0.2)\n",
    "plt.xticks(x, index)\n",
    "plt.legend()\n",
    "plt.title('mse')\n",
    "plt.show()"
   ]
  },
  {
   "cell_type": "markdown",
   "id": "9fdc6279-4bb6-4693-b6fb-5e40a0cd364c",
   "metadata": {},
   "source": [
    "# 최종 모델은 xgboost"
   ]
  },
  {
   "cell_type": "code",
   "execution_count": 159,
   "id": "4b9f99a5-a69f-4643-bfcb-6510870c5926",
   "metadata": {},
   "outputs": [],
   "source": [
    "xg.save_model(\"XGBoost_new.json\")"
   ]
  },
  {
   "cell_type": "code",
   "execution_count": null,
   "id": "00b061e8-3f1e-4c7a-9055-ebfe6307bd5a",
   "metadata": {},
   "outputs": [],
   "source": []
  }
 ],
 "metadata": {
  "kernelspec": {
   "display_name": "Python 3",
   "language": "python",
   "name": "python3"
  },
  "language_info": {
   "codemirror_mode": {
    "name": "ipython",
    "version": 3
   },
   "file_extension": ".py",
   "mimetype": "text/x-python",
   "name": "python",
   "nbconvert_exporter": "python",
   "pygments_lexer": "ipython3",
   "version": "3.8.8"
  }
 },
 "nbformat": 4,
 "nbformat_minor": 5
}
